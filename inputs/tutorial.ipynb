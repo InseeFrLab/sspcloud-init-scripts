{
  "cells": [
    {
      "cell_type": "markdown",
      "metadata": {},
      "source": [
        "# Structures de données 1 : listes et tuples\n",
        "\n",
        "Dans ce tutoriel, nous allons nous intéresser à des structures de\n",
        "données de base en Python : les **listes** et les **tuples**. Les\n",
        "structures de données peuvent être vues comme des conteneurs car ils\n",
        "permettent de stocker, d’organiser et d’accéder à des données. Les\n",
        "listes et les tuples sont des **conteneurs séquentiels** : les éléments\n",
        "qu’ils contiennent sont **ordonnés**, et leur position est enregistrée\n",
        "dans un **index**.\n",
        "\n",
        "## Listes\n",
        "\n",
        "### Définition\n",
        "\n",
        "Dans le tutoriel précédent, nous avons vu que les chaînes de caractères\n",
        "étaient des **séquences** de caractères. Les listes sont également des\n",
        "séquences, c’est à dire des suites ordonnées d’éléments, mais plus\n",
        "générales : les éléments peuvent être de différente nature.\n",
        "\n",
        "Les listes sont construites avec des crochets **\\[\\]**, et les éléments\n",
        "de la liste sont séparés par des virgules.\n",
        "\n",
        "Assignons une première liste à une variable `a` :"
      ],
      "id": "ffbb7c3e-4fe4-4416-86ba-058d358e3e00"
    },
    {
      "cell_type": "code",
      "execution_count": null,
      "metadata": {},
      "outputs": [],
      "source": [
        "a = [1, 2, 3]\n",
        "print(a)"
      ],
      "id": "45b8fe15"
    },
    {
      "cell_type": "markdown",
      "metadata": {},
      "source": [
        "La liste `a` est constituée d’entiers, mais une liste peut en pratique\n",
        "contenir des objets de tout type."
      ],
      "id": "4ee50707-9161-47d7-8ef5-92a7b67e87a4"
    },
    {
      "cell_type": "code",
      "execution_count": null,
      "metadata": {},
      "outputs": [],
      "source": [
        "b = [\"une séquence\", 56, \"d\"]\n",
        "print(b)"
      ],
      "id": "47f0a9e9"
    },
    {
      "cell_type": "markdown",
      "metadata": {},
      "source": [
        "Il est notamment possible de créer des listes de listes (et ainsi de\n",
        "suite), ce qui permet de créer des structures hiérarchiques de données."
      ],
      "id": "4be9e91d-795c-4932-83c1-a07dfaa8b175"
    },
    {
      "cell_type": "code",
      "execution_count": null,
      "metadata": {},
      "outputs": [],
      "source": [
        "c = [\"une séquence\", 56, [\"cette liste est imbriquée\", 75, \"o\"]]\n",
        "print(c)"
      ],
      "id": "f3e09292"
    },
    {
      "cell_type": "markdown",
      "metadata": {},
      "source": [
        "Une liste imbriquée peut aussi être construite à partir de listes déjà\n",
        "définies."
      ],
      "id": "7849b019-2687-40ce-9c6e-4b1f7c33afe8"
    },
    {
      "cell_type": "code",
      "execution_count": null,
      "metadata": {},
      "outputs": [],
      "source": [
        "item1 = [\"cafe\", \"500g\"]\n",
        "item2 = [\"biscuits\", \"20\"]\n",
        "item3 = [\"lait\", \"1L\"]\n",
        "inventaire = [item1, item2, item3]\n",
        "print(inventaire)"
      ],
      "id": "5ac2e427"
    },
    {
      "cell_type": "markdown",
      "metadata": {},
      "source": [
        "On verra cependant dans le prochain tutoriel que les dictionnaires sont\n",
        "généralement des structures de données souvent plus adaptées que les\n",
        "listes pour représenter des données sous forme hiérarchique.\n",
        "\n",
        "### Longueur d’une liste\n",
        "\n",
        "Comme les chaînes de caractères, il est possible d’utiliser la fonction\n",
        "`len` pour compter le nombre d’éléments présents dans une liste."
      ],
      "id": "17955052-e49c-4481-9b4b-ebf1db0d932a"
    },
    {
      "cell_type": "code",
      "execution_count": null,
      "metadata": {},
      "outputs": [],
      "source": [
        "d = [\"ceci\", \"est\", \"une\", \"liste\"]\n",
        "len(d)"
      ],
      "id": "975e9d14"
    },
    {
      "cell_type": "markdown",
      "metadata": {},
      "source": [
        "### Indexation\n",
        "\n",
        "Les listes étant des séquences, elles s’indexent de la même manière que\n",
        "les chaînes de caractères. Il est notamment important de se rappeler que\n",
        "la numérotation des positions commence à 0 en Python."
      ],
      "id": "e413c558-8a4c-48aa-b765-7da27668054c"
    },
    {
      "cell_type": "code",
      "execution_count": null,
      "metadata": {},
      "outputs": [],
      "source": [
        "# Troisième élément de la liste a\n",
        "print(a[2])"
      ],
      "id": "fbe0aebe"
    },
    {
      "cell_type": "markdown",
      "metadata": {},
      "source": [
        "Bien entendu, il n’est pas possible de demander un élément qui n’existe\n",
        "pas. Python renvoie une erreur nous indiquant que l’index demandé est\n",
        "hors limites."
      ],
      "id": "692ac62e-2d85-40f4-956c-2a9b2d81344e"
    },
    {
      "cell_type": "code",
      "execution_count": null,
      "metadata": {},
      "outputs": [],
      "source": [
        "print(a[5])"
      ],
      "id": "9f85490c"
    },
    {
      "cell_type": "markdown",
      "metadata": {},
      "source": [
        "Pour indexer une liste contenue dans une autre liste, on utilise une\n",
        "double indexation."
      ],
      "id": "537926ca-2fdd-4972-b1f5-4ae7aaf246c7"
    },
    {
      "cell_type": "code",
      "execution_count": null,
      "metadata": {},
      "outputs": [],
      "source": [
        "# Premier élément de la sous-liste qui est à la deuxième position de la liste c\n",
        "print(c[2][0])"
      ],
      "id": "06fd3065"
    },
    {
      "cell_type": "markdown",
      "metadata": {},
      "source": [
        "En termes d’indexation, tout ce qui était possible sur les chaînes\n",
        "caractères l’est également avec les listes."
      ],
      "id": "788fb467-b929-42fa-9d42-f73a81e17bdb"
    },
    {
      "cell_type": "code",
      "execution_count": null,
      "metadata": {},
      "outputs": [],
      "source": [
        "# Tous les éléments à partir de la 1ère position\n",
        "print(b[1:])"
      ],
      "id": "c20fca20"
    },
    {
      "cell_type": "code",
      "execution_count": null,
      "metadata": {},
      "outputs": [],
      "source": [
        "# Inverser une liste\n",
        "print(a[::-1])"
      ],
      "id": "7d4f6539"
    },
    {
      "cell_type": "markdown",
      "metadata": {},
      "source": [
        "### Modification d’éléments\n",
        "\n",
        "Il est possible de modifier les éléments d’une liste manuellement, avec\n",
        "une syntaxe similaire à l’assignation de variable."
      ],
      "id": "e59a4d0f-ad87-40f1-b8f3-80a1e504615d"
    },
    {
      "cell_type": "code",
      "execution_count": null,
      "metadata": {},
      "outputs": [],
      "source": [
        "# Réassignation d'un élément\n",
        "d = [1, 2, \"toto\", 4]\n",
        "d[2] = 3\n",
        "print(d)"
      ],
      "id": "05da67d8"
    },
    {
      "cell_type": "code",
      "execution_count": null,
      "metadata": {},
      "outputs": [],
      "source": [
        "# Substitution d'un élément\n",
        "a = [1, 2, 3]\n",
        "b = [\"do\", \"re\", \"mi\"]\n",
        "b[0] = a[2]\n",
        "print(b)"
      ],
      "id": "96903692"
    },
    {
      "cell_type": "markdown",
      "metadata": {},
      "source": [
        "### Suppression d’éléments\n",
        "\n",
        "L’instruction `del` permet de supprimer un élément par position. Les\n",
        "éléments qui se trouvaient après l’élément supprimé voient donc leur\n",
        "index réduit de 1."
      ],
      "id": "f4c0b3a0-ec28-4060-89dd-14fa95bca1da"
    },
    {
      "cell_type": "code",
      "execution_count": null,
      "metadata": {},
      "outputs": [],
      "source": [
        "e = [1, \"do\", 6]\n",
        "print(e)\n",
        "print(e[2])\n",
        "\n",
        "del e[1]\n",
        "print(e)\n",
        "print(e[1])"
      ],
      "id": "cf44feed"
    },
    {
      "cell_type": "markdown",
      "metadata": {},
      "source": [
        "### Quelques propriétés utiles\n",
        "\n",
        "Là encore, on retrouve des propriétés inhérentes aux séquences."
      ],
      "id": "b0b827e8-c65f-4ed0-aca9-a86ccfb16c4d"
    },
    {
      "cell_type": "code",
      "execution_count": null,
      "metadata": {},
      "outputs": [],
      "source": [
        "# Concaténation\n",
        "[1, 2, 3] + [\"a\", 12]"
      ],
      "id": "27ca8b21"
    },
    {
      "cell_type": "code",
      "execution_count": null,
      "metadata": {},
      "outputs": [],
      "source": [
        "# Réplication\n",
        "[\"a\", \"b\", \"c\"] * 3"
      ],
      "id": "9c135216"
    },
    {
      "cell_type": "markdown",
      "metadata": {},
      "source": [
        "### Quelques méthodes utiles\n",
        "\n",
        "A l’instar des chaînes de caractères, les listes ont de nombreuses\n",
        "méthodes *built-in*, qui s’utilisent selon le format\n",
        "`objet.methode(parametres)`. Les plus utiles sont présentées ci-dessous\n",
        "; d’autres méthodes seront utilisées dans le cadre des exercices de fin\n",
        "de section."
      ],
      "id": "65c265ad-aa78-4e05-a864-ea7c0d38ca4e"
    },
    {
      "cell_type": "code",
      "execution_count": null,
      "metadata": {},
      "outputs": [],
      "source": [
        "# Ajouter un élément\n",
        "a = [1, 2, 3]\n",
        "a.append(4)\n",
        "print(a)"
      ],
      "id": "02db1d05"
    },
    {
      "cell_type": "code",
      "execution_count": null,
      "metadata": {},
      "outputs": [],
      "source": [
        "# Supprimer un élément par position\n",
        "b = [\"do\", \"re\", \"mi\"]\n",
        "b.pop(0)\n",
        "print(b)"
      ],
      "id": "b04c0f01"
    },
    {
      "cell_type": "code",
      "execution_count": null,
      "metadata": {},
      "outputs": [],
      "source": [
        "# Supprimer un élément par valeur\n",
        "b = [\"do\", \"re\", \"mi\"]\n",
        "b.remove(\"mi\")\n",
        "print(b)"
      ],
      "id": "262a2548"
    },
    {
      "cell_type": "code",
      "execution_count": null,
      "metadata": {},
      "outputs": [],
      "source": [
        "# Inverser une liste\n",
        "l = [1, 2, 3, 4, 5]\n",
        "l.reverse()\n",
        "print(l)"
      ],
      "id": "2ff63c43"
    },
    {
      "cell_type": "code",
      "execution_count": null,
      "metadata": {},
      "outputs": [],
      "source": [
        "# Trouver la position d'un élément\n",
        "b = [\"a\", \"b\", \"c\", \"d\", \"e\"]\n",
        "b.index(\"d\")"
      ],
      "id": "20f0b37f"
    },
    {
      "cell_type": "markdown",
      "metadata": {},
      "source": [
        "## Tuples\n",
        "\n",
        "### Définition\n",
        "\n",
        "Les **tuples** sont une autre structure de données basique en Python,\n",
        "semblable à celle des listes dans leur fonctionnement. Il y a cependant\n",
        "une différence fondamentale : là où les éléments d’une liste peuvent\n",
        "être modifiés par position comme on l’a vu précédemment, les tuples sont\n",
        "**non-modifiables** (*immutable*). Ainsi, les éléments d’un tuple ne\n",
        "peuvent pas être modifiés sans redéfinir complètement le tuple.\n",
        "\n",
        "Quand est-il pertinent d’utiliser un tuple plutôt qu’une liste ? En\n",
        "pratique, les tuples sont beaucoup moins fréquemment utilisés que les\n",
        "listes. On utilise généralement les tuples pour **stocker des données\n",
        "qui n’ont pas vocation à être modifiées** lors de l’exécution de notre\n",
        "programme Python. Cela permet de se prémunir contre des problèmes\n",
        "d’intégrité de données, c’est à dire de modification non-voulue des\n",
        "données d’entrée. On s’évite ainsi parfois de longues et pénibles\n",
        "séances de debugging.\n",
        "\n",
        "Une autre différence, mineure celle-ci, est que les tuples s’écrivent\n",
        "avec des **parenthèses** au lieu des crochets. Les différents éléments\n",
        "sont toujours séparés par des virgules."
      ],
      "id": "4e7eb5b9-e06b-437b-ab04-2c35fc95dc22"
    },
    {
      "cell_type": "code",
      "execution_count": null,
      "metadata": {},
      "outputs": [],
      "source": [
        "x = (1, 2, \"mi\", \"fa\", 5)\n",
        "x"
      ],
      "id": "c3ab51c3"
    },
    {
      "cell_type": "markdown",
      "metadata": {},
      "source": [
        "Afin de bien faire la différence avec l’usage normal des parenthèses\n",
        "(dans les calculs ou pour délimiter les expressions), un tuple à un seul\n",
        "élément se définit avec une virgule après le premier élément."
      ],
      "id": "a88a3dcb-da7c-49e4-89dd-e47bced1e6bb"
    },
    {
      "cell_type": "code",
      "execution_count": null,
      "metadata": {},
      "outputs": [],
      "source": [
        "x1 = (\"a\", )\n",
        "x1"
      ],
      "id": "0fc7a5a3"
    },
    {
      "cell_type": "markdown",
      "metadata": {},
      "source": [
        "Vérifions qu’il est impossible de modifier ou d’ajouter un élément à un\n",
        "tuple."
      ],
      "id": "33566f64-f265-4dde-8624-228b36db471c"
    },
    {
      "cell_type": "code",
      "execution_count": null,
      "metadata": {},
      "outputs": [],
      "source": [
        "t = (\"do\", \"rez\", \"mi\")\n",
        "t[1] = \"re\""
      ],
      "id": "cab67397"
    },
    {
      "cell_type": "code",
      "execution_count": null,
      "metadata": {},
      "outputs": [],
      "source": [
        "t = (\"do\", \"re\", \"mi\")\n",
        "t.append(\"fa\")"
      ],
      "id": "dfe82d1d"
    },
    {
      "cell_type": "markdown",
      "metadata": {},
      "source": [
        "### Fonctionnement\n",
        "\n",
        "Les tuples s’indexent comme les listes."
      ],
      "id": "812bbbda-4e52-4117-bbda-87091c01e3f2"
    },
    {
      "cell_type": "code",
      "execution_count": null,
      "metadata": {},
      "outputs": [],
      "source": [
        "print(x[0])\n",
        "print(x[3:5])"
      ],
      "id": "f93e8ef9"
    },
    {
      "cell_type": "markdown",
      "metadata": {},
      "source": [
        "Et peuvent également s’utiliser de manière hiérarchique."
      ],
      "id": "a94668b5-895d-463c-9260-0531eba02487"
    },
    {
      "cell_type": "code",
      "execution_count": null,
      "metadata": {},
      "outputs": [],
      "source": [
        "t1 = (\"a\", \"b\", \"c\")\n",
        "t2 = (1, 2, 3)\n",
        "t3 = (t1, \"et\", t2)\n",
        "\n",
        "print(t3)\n",
        "print(t3[2][1])"
      ],
      "id": "1c064fa1"
    },
    {
      "cell_type": "markdown",
      "metadata": {},
      "source": [
        "Les tuples partagent certaines méthodes *built-in* avec les listes :\n",
        "celles qui ne provoquent pas de modification de l’objet."
      ],
      "id": "64b66298-54f8-4ad3-af20-23ef1db4b681"
    },
    {
      "cell_type": "code",
      "execution_count": null,
      "metadata": {},
      "outputs": [],
      "source": [
        "t = (\"do\", \"re\", \"mi\")\n",
        "t.index(\"do\")"
      ],
      "id": "a7be7a17"
    },
    {
      "cell_type": "code",
      "execution_count": null,
      "metadata": {},
      "outputs": [],
      "source": [
        "t = (\"do\", \"re\", \"mi\", \"re\", \"do\")\n",
        "t.count(\"re\")"
      ],
      "id": "27039b4a"
    },
    {
      "cell_type": "markdown",
      "metadata": {},
      "source": [
        "### Conversion\n",
        "\n",
        "Les fonctions `list` et `tuple` permettent de convertir une liste en\n",
        "tuple et inversement."
      ],
      "id": "5502f685-7000-4d67-85bc-c64f89d456ee"
    },
    {
      "cell_type": "code",
      "execution_count": null,
      "metadata": {},
      "outputs": [],
      "source": [
        "tuple([\"do\", \"re\", \"mi\"])"
      ],
      "id": "580bca96"
    },
    {
      "cell_type": "code",
      "execution_count": null,
      "metadata": {},
      "outputs": [],
      "source": [
        "list((1, 2, 3, 4, 5))"
      ],
      "id": "40303bae"
    },
    {
      "cell_type": "markdown",
      "metadata": {},
      "source": [
        "Ces fonctions ont d’autres usages en pratique, que nous verrons en\n",
        "exercice.\n",
        "\n",
        "## Exercices\n",
        "\n",
        "### Questions de compréhension\n",
        "\n",
        "-   Pourquoi dit-on des listes et des tuples que ce sont des conteneurs\n",
        "    ?\n",
        "\n",
        "-   Quel est le point commun entre les listes et les chaînes de\n",
        "    caractères ?\n",
        "\n",
        "-   Comment est enregistré l’ordre des éléments dans une séquence en\n",
        "    Python ?\n",
        "\n",
        "-   Quelle est la différence fondamentale entre une liste et un tuple ?\n",
        "\n",
        "-   Dans quel cas aura-t-on plutôt intérêt à utiliser un tuple qu’une\n",
        "    liste ?\n",
        "\n",
        "-   Peut-on avoir des éléments de types différents (ex : `int` et\n",
        "    `string`) dans une même liste ? Dans un même tuple ?"
      ],
      "id": "8a7bd04a-5d76-48c3-b0ab-df0cd52bdbd8"
    },
    {
      "cell_type": "markdown",
      "metadata": {},
      "source": [
        "<details>\n",
        "\n",
        "<summary>\n",
        "\n",
        "Afficher la solution\n",
        "\n",
        "</summary>\n",
        "\n",
        "-   1/ On dit que les listes et les tuples sont des conteneurs parce\n",
        "    qu’ils permettent de stocker et d’organiser une collection\n",
        "    d’éléments de différente nature dans une unique structure de\n",
        "    données.\n",
        "\n",
        "-   2/ Les listes et les chaînes de caractères sont toutes deux des\n",
        "    séquences ordonnées d’éléments, qui peuvent être requêtées par\n",
        "    position. Dans le cas d’une chaîne de caractères, chaque élément est\n",
        "    lui même une chaîne de caractères. Dans le cas d’une liste, les\n",
        "    éléments peuvent être de différente nature (chaîne de caractère,\n",
        "    liste, tuple, etc.)\n",
        "\n",
        "-   3/ Chaque élément d’une séquence a une position unique, appelée\n",
        "    indice, qui commence à 0 pour le premier élément, 1 pour le second,\n",
        "    et ainsi de suite. Les éléments sont stockés dans l’ordre où ils\n",
        "    sont ajoutés.\n",
        "\n",
        "-   4/ Une liste est un objet mutable : il est possible d’ajouter,\n",
        "    supprimer ou modifier des éléments d’une liste après sa création. A\n",
        "    l’inverse, les tuples sont immutables : une fois qu’un tuple est\n",
        "    défini, on ne peut ni changer ses éléments, ni ajouter ou supprimer\n",
        "    des éléments.\n",
        "\n",
        "-   5/ En vertu de leur immutabilité, les tuples sont particulièrement\n",
        "    adaptés pour stocker des données dont on voudrait s’assurer qu’elle\n",
        "    ne seront pas modifiés par erreur. Par exemples, pour stocker des\n",
        "    constantes d’un algorithme (paramètres, coordonnées géographiques,\n",
        "    chemin de fichier, etc).\n",
        "\n",
        "-   6/ Oui, il est tout à fait possible d’avoir des éléments de types\n",
        "    différents dans une même liste ou dans un même tuple. Ces éléments\n",
        "    peuvent être de types de base (ex : `int` et `string`), mais\n",
        "    également des conteneurs (ex : liste, tuple, dictionnaire, etc.).\n",
        "\n",
        "</details>"
      ],
      "id": "0fa4a929-60aa-474a-bd6a-f9ebb4c492e5"
    },
    {
      "cell_type": "markdown",
      "metadata": {},
      "source": [
        "### Les 4 saisons\n",
        "\n",
        "Créez 4 listes portant les noms des 4 saisons, contenant chacune les\n",
        "noms des mois associés (les mois de changement de saison seront\n",
        "attribués à la saison précédente). Puis créez une liste `saisons`\n",
        "contenant les 4 listes. Essayez de prévoir ce que vont renvoyer (type de\n",
        "l’objet, nombre d’éléments et contenu) les instructions suivantes, puis\n",
        "vérifiez le.\n",
        "\n",
        "-   `saisons`\n",
        "\n",
        "-   `saisons[0]`\n",
        "\n",
        "-   `saisons[0][0]`\n",
        "\n",
        "-   `saisons[1][-1]`\n",
        "\n",
        "-   `saisons[2][:3]`\n",
        "\n",
        "-   `saisons[1][1:2] + saisons[-1][3:]`\n",
        "\n",
        "-   `saisons[2:]`\n",
        "\n",
        "-   `saisons + saisons[0]`\n",
        "\n",
        "-   `saisons[3][::]`\n",
        "\n",
        "-   `saisons[3][::-1]`\n",
        "\n",
        "-   `saisons * 3`"
      ],
      "id": "f6709b27-7f3f-4740-b9a6-a61a207924a4"
    },
    {
      "cell_type": "code",
      "execution_count": null,
      "metadata": {},
      "outputs": [],
      "source": [
        "# Testez votre réponse dans cette cellule"
      ],
      "id": "d88d3311"
    },
    {
      "cell_type": "markdown",
      "metadata": {},
      "source": [
        "<details>\n",
        "\n",
        "<summary>\n",
        "\n",
        "Afficher la solution\n",
        "\n",
        "</summary>\n",
        "\n",
        "``` python\n",
        "printemps = [\"avril\", \"mai\", \"juin\"]\n",
        "ete = [\"juillet\", \"aout\", \"septembre\"]\n",
        "automne = [\"octobre\", \"novembre\", \"decembre\"]\n",
        "hiver = [\"janvier\", \"fevrier\", \"mars\"]\n",
        "\n",
        "saisons = [printemps, ete, automne, hiver]\n",
        "\n",
        "l = saisons\n",
        "print(type(l), len(l), l, \"\\n\")\n",
        "\n",
        "l = saisons[0]\n",
        "print(type(l), len(l), l, \"\\n\")\n",
        "\n",
        "l = saisons[0][0]\n",
        "print(type(l), len(l), l, \"\\n\")\n",
        "\n",
        "l = saisons[1][-1]\n",
        "print(type(l), len(l), l, \"\\n\")\n",
        "\n",
        "l = saisons[2][:3]\n",
        "print(type(l), len(l), l, \"\\n\")\n",
        "\n",
        "l = saisons[1][1:2] + saisons[-1][3:]\n",
        "print(type(l), len(l), l, \"\\n\")\n",
        "\n",
        "l = saisons[2:]\n",
        "print(type(l), len(l), l, \"\\n\")\n",
        "\n",
        "l = saisons + saisons[0]\n",
        "print(type(l), len(l), l, \"\\n\")\n",
        "\n",
        "l = saisons[3][::]\n",
        "print(type(l), len(l), l, \"\\n\")\n",
        "\n",
        "l = saisons[3][::-1]\n",
        "print(type(l), len(l), l, \"\\n\")\n",
        "\n",
        "l = saisons * 3\n",
        "print(type(l), len(l), l, \"\\n\")\n",
        "```\n",
        "\n",
        "</details>"
      ],
      "id": "01aa2263-8b10-4479-9acc-43986d30e8e9"
    },
    {
      "cell_type": "markdown",
      "metadata": {},
      "source": [
        "### Faire ses gammes\n",
        "\n",
        "En ajoutant, supprimant et modifiant des éléments, nettoyez la liste\n",
        "suivante pour qu’elle contienne les notes de musique “do re mi fa sol la\n",
        "si” dans le bon ordre.\n",
        "\n",
        "`l = [\"do\", \"re\", \"re\", \"re\", \"fa\", \"sol\", \"solsi\", \"la\"]`"
      ],
      "id": "2a31b530-61d3-4e78-8c2b-4387c8f0570a"
    },
    {
      "cell_type": "code",
      "execution_count": null,
      "metadata": {},
      "outputs": [],
      "source": [
        "# Testez votre réponse dans cette cellule"
      ],
      "id": "c213bc5e"
    },
    {
      "cell_type": "markdown",
      "metadata": {},
      "source": [
        "<details>\n",
        "\n",
        "<summary>\n",
        "\n",
        "Afficher la solution\n",
        "\n",
        "</summary>\n",
        "\n",
        "``` python\n",
        "l = [\"do\", \"re\", \"re\", \"re\", \"fa\", \"sol\", \"solsi\", \"la\"]\n",
        "\n",
        "del l[1]  # On aurait aussi pu utiliser : l.pop(1)\n",
        "l[2] = \"mi\"\n",
        "del l[5]\n",
        "l.append(\"si\")\n",
        "\n",
        "print(l)\n",
        "```\n",
        "\n",
        "Cet exemple visait simplement à pratiquer la modification et la\n",
        "suppression d’éléments. En pratique, il aurait été bien plus simple de\n",
        "directement créer la liste correcte.\n",
        "\n",
        "</details>"
      ],
      "id": "dfb34c0d-01c3-4507-b5e5-ec009bb5c83c"
    },
    {
      "cell_type": "markdown",
      "metadata": {},
      "source": [
        "### Inversion de liste\n",
        "\n",
        "Proposez deux méthodes pour inverser la liste\n",
        "`[\"une\", \"liste\", \"quelconque\"]`. Quelle est la différence majeure entre\n",
        "les deux méthodes ?"
      ],
      "id": "ea96b0d1-a5c1-425f-8527-8c335bbaab7b"
    },
    {
      "cell_type": "code",
      "execution_count": null,
      "metadata": {},
      "outputs": [],
      "source": [
        "# Testez votre réponse dans cette cellule"
      ],
      "id": "7fda33f8"
    },
    {
      "cell_type": "markdown",
      "metadata": {},
      "source": [
        "<details>\n",
        "\n",
        "<summary>\n",
        "\n",
        "Afficher la solution\n",
        "\n",
        "</summary>\n",
        "\n",
        "``` python\n",
        "l1 = [\"une\", \"liste\", \"quelconque\"]\n",
        "l1.reverse()\n",
        "print(l1)\n",
        "\n",
        "l2 = [\"une\", \"liste\", \"quelconque\"]\n",
        "print(l2[::-1])\n",
        "print(l2)\n",
        "```\n",
        "\n",
        "La méthode `reverse` modifie la liste “en place” : la liste est\n",
        "durablement inversée après l’avoir exécutée. En revanche, la méthode qui\n",
        "inverse la liste via l’indexation renvoie une nouvelle liste et ne\n",
        "modifie pas l’existante. Pour que ce changement soit durable, il\n",
        "faudrait donc écraser la liste existante, ou bien en créer une nouvelle.\n",
        "\n",
        "``` python\n",
        "l2 = l2[::-1]\n",
        "print(l2)\n",
        "```\n",
        "\n",
        "</details>"
      ],
      "id": "9e465f50-8e53-4475-8384-1ba046e097d4"
    },
    {
      "cell_type": "markdown",
      "metadata": {},
      "source": [
        "### Pop’it\n",
        "\n",
        "Nous avons vu que l’instruction `ma_liste.pop(i)` supprimait le i-ème\n",
        "élément de la liste `ma_liste`. A l’aide de la documentation Python ou\n",
        "d’une recherche sur Google, déterminez le comportement par défaut de\n",
        "cette méthode, c’est à dire ce qu’il se passe lorsqu’on ne donne aucun\n",
        "paramètre à la fonction `pop`. Vérifiez que vous observez bien ce\n",
        "comportement à l’aide d’un exemple de votre choix."
      ],
      "id": "e4973730-ead7-49d0-9482-b8c954c22cf6"
    },
    {
      "cell_type": "code",
      "execution_count": null,
      "metadata": {},
      "outputs": [],
      "source": [
        "# Testez votre réponse dans cette cellule"
      ],
      "id": "662951c3"
    },
    {
      "cell_type": "markdown",
      "metadata": {},
      "source": [
        "<details>\n",
        "\n",
        "<summary>\n",
        "\n",
        "Afficher la solution\n",
        "\n",
        "</summary>\n",
        "\n",
        "``` python\n",
        "l = [\"do\", \"re\", \"mi\"]\n",
        "l.pop()\n",
        "print(l)\n",
        "```\n",
        "\n",
        "</details>"
      ],
      "id": "c6f65a1a-dd92-4124-9ce5-776288cebd57"
    },
    {
      "cell_type": "markdown",
      "metadata": {},
      "source": [
        "### Min et max de différentes listes\n",
        "\n",
        "Il existe beaucoup d’autres méthodes *built-in* pour les listes que\n",
        "celles que nous avons déjà vues. Par exemple : `min` et `max`. Vérifiez\n",
        "leur comportement :\n",
        "\n",
        "-   sur une liste composée uniquement d’objets numériques (`int` et\n",
        "    `float`) ;\n",
        "\n",
        "-   sur une liste composée uniquement de chaînes de caractères ;\n",
        "\n",
        "-   sur une liste composée d’un mélange d’objets numériques et textuels."
      ],
      "id": "3e54c6d4-e250-4702-81a7-efef6731e9e5"
    },
    {
      "cell_type": "code",
      "execution_count": null,
      "metadata": {},
      "outputs": [],
      "source": [
        "# Testez votre réponse dans cette cellule"
      ],
      "id": "f44381aa"
    },
    {
      "cell_type": "markdown",
      "metadata": {},
      "source": [
        "<details>\n",
        "\n",
        "<summary>\n",
        "\n",
        "Afficher la solution\n",
        "\n",
        "</summary>\n",
        "\n",
        "``` python\n",
        "a = [5, 800, 9.92, 0]\n",
        "b = [\"do\", \"re\", \"mi\", \"fa\", \"sol\"]\n",
        "c = [1, \"melange\", \"des\", 2]\n",
        "\n",
        "print(min(a), max(a))\n",
        "print(min(b), max(b))\n",
        "print(min(c), max(c))\n",
        "```\n",
        "\n",
        "La troisième expression renvoie une erreur : il n’existe pas de relation\n",
        "d’ordre pertinente.\n",
        "\n",
        "</details>"
      ],
      "id": "bb2405b2-d0c3-4d37-8b41-520fad4977dd"
    },
    {
      "cell_type": "markdown",
      "metadata": {},
      "source": [
        "### Liste vide\n",
        "\n",
        "Essayer de créer une liste vide. Vérifiez son type. Quel intérêt\n",
        "pourrait avoir un tel objet ?"
      ],
      "id": "32c6d7c2-49e3-4b7b-bce0-5d0d09a37c0f"
    },
    {
      "cell_type": "code",
      "execution_count": null,
      "metadata": {},
      "outputs": [],
      "source": [
        "# Testez votre réponse dans cette cellule"
      ],
      "id": "fc05b8e4"
    },
    {
      "cell_type": "markdown",
      "metadata": {},
      "source": [
        "<details>\n",
        "\n",
        "<summary>\n",
        "\n",
        "Afficher la solution\n",
        "\n",
        "</summary>\n",
        "\n",
        "``` python\n",
        "l = []\n",
        "print(l)\n",
        "print(type(l))\n",
        "```\n",
        "\n",
        "On peut donc effectivement créer une liste vide. Mais quel intérêt ? Un\n",
        "usage très fréquent est d’initialiser une liste, que l’on va ensuite\n",
        "remplir au fur et à mesure des itérations d’une boucle. Les boucles\n",
        "feront l’objet d’un prochain tutoriel ; mais voici un exemple simple\n",
        "d’un tel usage.\n",
        "\n",
        "``` python\n",
        "for i in range(10):\n",
        "    l.append(i)\n",
        "    \n",
        "print(l)\n",
        "```\n",
        "\n",
        "</details>"
      ],
      "id": "32a4009e-d3cf-4b21-90e4-71c0cbac3171"
    },
    {
      "cell_type": "markdown",
      "metadata": {},
      "source": [
        "### La fonction `list`\n",
        "\n",
        "Dans le tutoriel, nous avons vu les fonctions `list` et `tuple` qui\n",
        "permettent de passer d’un type à l’autre. En réalité, le fonctionnement\n",
        "de ces fonctions est plus subtil : le code `list(mon_objet)` renvoie la\n",
        "“version liste” de cet objet, de la même manière par exemple que\n",
        "`str(3)` renvoie `'3'`, c’est à dire la version *string* de l’entier\n",
        "`3`.\n",
        "\n",
        "A l’aide de la fonction `list`, trouver les “versions liste” des objets\n",
        "suivants :\n",
        "\n",
        "-   le tuple `a = (1, 2, 3)` ;\n",
        "\n",
        "-   la chaîne de caractères `b = \"bonjour\"` ;\n",
        "\n",
        "-   l’entier `c = 5`"
      ],
      "id": "43d8a4bd-94f1-4e8d-af44-0cdfc7875a66"
    },
    {
      "cell_type": "code",
      "execution_count": null,
      "metadata": {},
      "outputs": [],
      "source": [
        "# Testez votre réponse dans cette cellule"
      ],
      "id": "de9c2d8b"
    },
    {
      "cell_type": "markdown",
      "metadata": {},
      "source": [
        "<details>\n",
        "\n",
        "<summary>\n",
        "\n",
        "Afficher la solution\n",
        "\n",
        "</summary>\n",
        "\n",
        "``` python\n",
        "a = (1, 2, 3)\n",
        "print(list(a))\n",
        "\n",
        "b = \"bonjour\"\n",
        "print(list(b))\n",
        "\n",
        "c = 5\n",
        "print(list(c))\n",
        "```\n",
        "\n",
        "La dernière expression renvoie une erreur : un entier n’est pas une\n",
        "séquence, une “version liste” n’a donc pas sens. On peut par contre bien\n",
        "entendu créer une liste avec pour seul élément 5.\n",
        "\n",
        "``` python\n",
        "d = [5]\n",
        "print(d)\n",
        "```\n",
        "\n",
        "</details>"
      ],
      "id": "c5392088-fe74-4d10-9b9f-ab2ba4bd999b"
    },
    {
      "cell_type": "markdown",
      "metadata": {},
      "source": [
        "### Immutabilité des tuples\n",
        "\n",
        "Nous avons vu que les tuples avaient la particularité d’être\n",
        "non-modifiables. Mais est-ce que cette propriété se transfère de manière\n",
        "récursive ? Par exemple, est-ce qu’une liste contenue dans un tuple\n",
        "est-elle même non-modifiable ? Vérifiez à l’aide d’un exemple de votre\n",
        "choix."
      ],
      "id": "ccda35ad-57e2-411c-b12c-657580f13362"
    },
    {
      "cell_type": "code",
      "execution_count": null,
      "metadata": {},
      "outputs": [],
      "source": [
        "# Testez votre réponse dans cette cellule"
      ],
      "id": "cce90f0c"
    },
    {
      "cell_type": "markdown",
      "metadata": {},
      "source": [
        "<details>\n",
        "\n",
        "<summary>\n",
        "\n",
        "Afficher la solution\n",
        "\n",
        "</summary>\n",
        "\n",
        "``` python\n",
        "t = (1, 2, [\"une\", \"liste\"])\n",
        "t[2][0] = 26\n",
        "print(t)\n",
        "```\n",
        "\n",
        "Verdict : la non-modifiabilité ne s’applique qu’au premier niveau. Elle\n",
        "ne se transfère pas aux sous-éléments.\n",
        "\n",
        "</details>"
      ],
      "id": "06b28cfd-5292-4822-b322-58448f5ed2e2"
    },
    {
      "cell_type": "markdown",
      "metadata": {},
      "source": [
        "### Dissociation de séquences\n",
        "\n",
        "Lisez la partie concernant l’agrégation et la dissociation de séquences\n",
        "dans la [documentation\n",
        "Python](https://docs.python.org/fr/3/tutorial/datastructures.html#tuples-and-sequences).\n",
        "La dissociation est une propriété souvent utilisée en pratique. Vérifiez\n",
        "qu’elle fonctionne sur les différents objets séquentiels que nous avons\n",
        "vus jusqu’à maintenant (chaînes de caractères, listes et tuples)."
      ],
      "id": "6196e964-982b-45cc-8a72-fe8697b3397e"
    },
    {
      "cell_type": "code",
      "execution_count": null,
      "metadata": {},
      "outputs": [],
      "source": [
        "# Testez votre réponse dans cette cellule"
      ],
      "id": "065e1888"
    },
    {
      "cell_type": "markdown",
      "metadata": {},
      "source": [
        "<details>\n",
        "\n",
        "<summary>\n",
        "\n",
        "Afficher la solution\n",
        "\n",
        "</summary>\n",
        "\n",
        "``` python\n",
        "x, y, z = \"abc\"\n",
        "print(y)\n",
        "\n",
        "a, b, c, d = [\"do\", \"re\", \"mi\", \"fa\"]\n",
        "print(c)\n",
        "\n",
        "r, s, t, u = (\"un\", \"tuple\", \"de\", \"test\")\n",
        "print(r)\n",
        "```\n",
        "\n",
        "</details>"
      ],
      "id": "0d8ec8ab-73e0-4eb0-8caa-305ef56425e9"
    }
  ],
  "nbformat": 4,
  "nbformat_minor": 5,
  "metadata": {
    "kernelspec": {
      "name": "python3",
      "display_name": "Python 3 (ipykernel)",
      "language": "python",
      "path": "/opt/conda/share/jupyter/kernels/python3"
    }
  }
}